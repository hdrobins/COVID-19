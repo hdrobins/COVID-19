{
 "cells": [
  {
   "cell_type": "code",
   "execution_count": 78,
   "metadata": {},
   "outputs": [],
   "source": [
    "import matplotlib.pyplot as plt\n",
    "import numpy\n",
    "import pandas"
   ]
  },
  {
   "cell_type": "code",
   "execution_count": 79,
   "metadata": {},
   "outputs": [],
   "source": [
    "def nuevos_registros(compare,country):\n",
    "    nuevos_casos=0\n",
    "    compare = compare.groupby('Country/Region', as_index=False).sum().copy()\n",
    "    compare.drop('Lat',  axis=1, inplace=True)\n",
    "    compare.drop('Long', axis=1, inplace=True)\n",
    "    compare = compare.loc   [country_deaths   ['Country/Region'].isin([country])].copy()\n",
    "    compare.set_index('Country/Region')\n",
    "    \n",
    "    df = compare.copy()\n",
    "    nRow=0\n",
    "    for index, row in compare.iterrows():\n",
    "        nCol=0\n",
    "        for (columnName, columnData) in compare.iteritems():\n",
    "            if nCol>1:\n",
    "                df.iat[nRow,nCol]=compare.iloc[nRow,nCol]-compare.iloc[nRow,nCol-1]\n",
    "                nuevos_casos=df.iat[nRow,nCol]\n",
    "                total_casos =compare.iloc[nRow,nCol]\n",
    "                fecha       =columnName\n",
    "            nCol=nCol+1\n",
    "        nRow=nRow+1\n",
    "    return [fecha,total_casos,nuevos_casos]"
   ]
  },
  {
   "cell_type": "markdown",
   "metadata": {},
   "source": [
    "# Stats of Total and New cases by Country\n",
    "### Data from https://github.com/CSSEGISandData/COVID-19\n",
    "\n",
    "2019 Novel Coronavirus COVID-19 (2019-nCoV) Data Repository by Johns Hopkins CSSE\n",
    "This is the data repository for the 2019 Novel Coronavirus Visual Dashboard operated by the Johns Hopkins University Center for Systems Science and Engineering (JHU CSSE). Also, Supported by ESRI Living Atlas Team and the Johns Hopkins University Applied Physics Lab (JHU APL)."
   ]
  },
  {
   "cell_type": "code",
   "execution_count": 93,
   "metadata": {},
   "outputs": [
    {
     "name": "stdout",
     "output_type": "stream",
     "text": [
      "Casos confirmados al: 3/29/20 Total: 745 Nuevos: 55\n",
      "Casos recuperados al: 3/29/20 Total: 72 Nuevos: 0\n",
      "Muertes           al: 3/29/20 Total: 19 Nuevas: 1\n"
     ]
    }
   ],
   "source": [
    "deaths        = pandas.read_csv('https://raw.githubusercontent.com/CSSEGISandData/COVID-19/master/csse_covid_19_data/csse_covid_19_time_series/time_series_covid19_deaths_global.csv')\n",
    "confirmed     = pandas.read_csv('https://raw.githubusercontent.com/CSSEGISandData/COVID-19/master/csse_covid_19_data/csse_covid_19_time_series/time_series_covid19_confirmed_global.csv')\n",
    "recovered     = pandas.read_csv('https://raw.githubusercontent.com/CSSEGISandData/COVID-19/master/csse_covid_19_data/csse_covid_19_time_series/time_series_covid19_recovered_global.csv')\n",
    "\n",
    "pais='Argentina'\n",
    "\n",
    "vec_confirmed = nuevos_registros(confirmed,pais)\n",
    "vec_deaths    = nuevos_registros(deaths,pais)\n",
    "vec_recovered = nuevos_registros(recovered,pais)\n",
    "\n",
    "print('Casos confirmados al: '+vec_confirmed[0]+' Total: '+str(vec_confirmed[1])+' Nuevos: '+str(vec_confirmed[2]))\n",
    "print('Casos recuperados al: '+vec_recovered[0]+' Total: '+str(vec_recovered[1])+' Nuevos: '+str(vec_recovered[2]))         \n",
    "print('Muertes           al: '+vec_deaths[0]+' Total: '+str(vec_deaths[1])+' Nuevas: '+str(vec_deaths[2]))         "
   ]
  }
 ],
 "metadata": {
  "kernelspec": {
   "display_name": "Python 3",
   "language": "python",
   "name": "python3"
  },
  "language_info": {
   "codemirror_mode": {
    "name": "ipython",
    "version": 3
   },
   "file_extension": ".py",
   "mimetype": "text/x-python",
   "name": "python",
   "nbconvert_exporter": "python",
   "pygments_lexer": "ipython3",
   "version": "3.6.9"
  }
 },
 "nbformat": 4,
 "nbformat_minor": 2
}
